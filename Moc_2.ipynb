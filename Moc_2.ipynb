{
  "nbformat": 4,
  "nbformat_minor": 0,
  "metadata": {
    "colab": {
      "name": "Moc_2.ipynb",
      "provenance": [],
      "authorship_tag": "ABX9TyMMnmd0EftRjtWrm8zAp7GU",
      "include_colab_link": true
    },
    "kernelspec": {
      "name": "python3",
      "display_name": "Python 3"
    },
    "language_info": {
      "name": "python"
    }
  },
  "cells": [
    {
      "cell_type": "markdown",
      "metadata": {
        "id": "view-in-github",
        "colab_type": "text"
      },
      "source": [
        "<a href=\"https://colab.research.google.com/github/AndrewSlutsky/MOC/blob/main/Moc_2.ipynb\" target=\"_parent\"><img src=\"https://colab.research.google.com/assets/colab-badge.svg\" alt=\"Open In Colab\"/></a>"
      ]
    },
    {
      "cell_type": "markdown",
      "metadata": {
        "id": "RDOrRGymGbdJ"
      },
      "source": [
        "# Libs"
      ]
    },
    {
      "cell_type": "code",
      "metadata": {
        "id": "p_lWUCIiL96r"
      },
      "source": [
        "import nltk\n",
        "import lzma\n",
        "\n",
        "import numpy as np\n",
        "\n",
        "from random import choice\n",
        "from typing import Callable"
      ],
      "execution_count": null,
      "outputs": []
    }
  ]
}